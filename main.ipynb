{
 "cells": [
  {
   "cell_type": "code",
   "execution_count": 6,
   "metadata": {},
   "outputs": [],
   "source": [
    "from src.classes.DataLoader import DataLoader\n",
    "from src.constants.path import LOAD_DATA_PATH\n",
    "import pandas as pd\n",
    "import numpy as np\n",
    "from src.constants.scheme import COLUMNS"
   ]
  },
  {
   "cell_type": "code",
   "execution_count": 2,
   "metadata": {},
   "outputs": [],
   "source": [
    "df = DataLoader(LOAD_DATA_PATH).load_data(generate_category=False)"
   ]
  },
  {
   "cell_type": "code",
   "execution_count": 4,
   "metadata": {},
   "outputs": [
    {
     "data": {
      "text/plain": [
       "Series([], Name: category, dtype: int64)"
      ]
     },
     "execution_count": 4,
     "metadata": {},
     "output_type": "execute_result"
    }
   ],
   "source": [
    "df.category.value_counts()"
   ]
  },
  {
   "cell_type": "code",
   "execution_count": 7,
   "metadata": {},
   "outputs": [],
   "source": [
    "dataframe = pd.read_csv(f\"{LOAD_DATA_PATH}transaction-history.csv\")\n",
    "categories = pd.read_csv(f\"{LOAD_DATA_PATH}categories.csv\")\n",
    "dataframe = dataframe.rename(columns=COLUMNS)\n",
    "dataframe['start_date'] = pd.to_datetime(dataframe['start_date'])\n",
    "dataframe['end_date'] = pd.to_datetime(dataframe['end_date'])\n",
    "dataframe['origin_amount'] = np.where(dataframe['direction'] == 'IN', dataframe['origin_amount'] * -1, dataframe['origin_amount'])\n",
    "dataframe['destiny_amount'] = np.where(dataframe['direction'] == 'IN', dataframe['origin_amount'] * -1, dataframe['origin_amount'])\n",
    "dataframe = dataframe.query(\"origin_currency == 'EUR'\")\n",
    "dataframe = dataframe.merge(categories, how='left', left_on='beneficiary_name', right_on='beneficiary')\n"
   ]
  },
  {
   "cell_type": "code",
   "execution_count": 9,
   "metadata": {},
   "outputs": [
    {
     "data": {
      "text/html": [
       "<div>\n",
       "<style scoped>\n",
       "    .dataframe tbody tr th:only-of-type {\n",
       "        vertical-align: middle;\n",
       "    }\n",
       "\n",
       "    .dataframe tbody tr th {\n",
       "        vertical-align: top;\n",
       "    }\n",
       "\n",
       "    .dataframe thead th {\n",
       "        text-align: right;\n",
       "    }\n",
       "</style>\n",
       "<table border=\"1\" class=\"dataframe\">\n",
       "  <thead>\n",
       "    <tr style=\"text-align: right;\">\n",
       "      <th></th>\n",
       "      <th>beneficiary</th>\n",
       "      <th>category</th>\n",
       "    </tr>\n",
       "  </thead>\n",
       "  <tbody>\n",
       "    <tr>\n",
       "      <th>0</th>\n",
       "      <td>Paulo Rafael Alberton Bloemer</td>\n",
       "      <td>NaN</td>\n",
       "    </tr>\n",
       "    <tr>\n",
       "      <th>1</th>\n",
       "      <td>Woolworth</td>\n",
       "      <td>shop</td>\n",
       "    </tr>\n",
       "    <tr>\n",
       "      <th>2</th>\n",
       "      <td>Fernando Cesar Furtado Ballesteros Fincatti</td>\n",
       "      <td>NaN</td>\n",
       "    </tr>\n",
       "    <tr>\n",
       "      <th>3</th>\n",
       "      <td>Basta Pasta Side</td>\n",
       "      <td>restaurant</td>\n",
       "    </tr>\n",
       "    <tr>\n",
       "      <th>4</th>\n",
       "      <td>EDEKA</td>\n",
       "      <td>market</td>\n",
       "    </tr>\n",
       "    <tr>\n",
       "      <th>...</th>\n",
       "      <td>...</td>\n",
       "      <td>...</td>\n",
       "    </tr>\n",
       "    <tr>\n",
       "      <th>151</th>\n",
       "      <td>Sumup  *Reisner  Hendl</td>\n",
       "      <td>NaN</td>\n",
       "    </tr>\n",
       "    <tr>\n",
       "      <th>152</th>\n",
       "      <td>Vr Bayern Mitte Eg</td>\n",
       "      <td>NaN</td>\n",
       "    </tr>\n",
       "    <tr>\n",
       "      <th>153</th>\n",
       "      <td>Tk Maxx Gmbh &amp; Co.kg</td>\n",
       "      <td>shop</td>\n",
       "    </tr>\n",
       "    <tr>\n",
       "      <th>154</th>\n",
       "      <td>Schum Euroshop Gmbh 292</td>\n",
       "      <td>shop</td>\n",
       "    </tr>\n",
       "    <tr>\n",
       "      <th>155</th>\n",
       "      <td>Lieferando.de Lieferservi</td>\n",
       "      <td>restaurant</td>\n",
       "    </tr>\n",
       "  </tbody>\n",
       "</table>\n",
       "<p>156 rows × 2 columns</p>\n",
       "</div>"
      ],
      "text/plain": [
       "                                     beneficiary    category\n",
       "0                  Paulo Rafael Alberton Bloemer         NaN\n",
       "1                                      Woolworth        shop\n",
       "2    Fernando Cesar Furtado Ballesteros Fincatti         NaN\n",
       "3                               Basta Pasta Side  restaurant\n",
       "4                                          EDEKA      market\n",
       "..                                           ...         ...\n",
       "151                       Sumup  *Reisner  Hendl         NaN\n",
       "152                           Vr Bayern Mitte Eg         NaN\n",
       "153                         Tk Maxx Gmbh & Co.kg        shop\n",
       "154                      Schum Euroshop Gmbh 292        shop\n",
       "155                    Lieferando.de Lieferservi  restaurant\n",
       "\n",
       "[156 rows x 2 columns]"
      ]
     },
     "execution_count": 9,
     "metadata": {},
     "output_type": "execute_result"
    }
   ],
   "source": [
    "categories"
   ]
  },
  {
   "cell_type": "code",
   "execution_count": null,
   "metadata": {},
   "outputs": [],
   "source": []
  }
 ],
 "metadata": {
  "kernelspec": {
   "display_name": "Python 3",
   "language": "python",
   "name": "python3"
  },
  "language_info": {
   "codemirror_mode": {
    "name": "ipython",
    "version": 3
   },
   "file_extension": ".py",
   "mimetype": "text/x-python",
   "name": "python",
   "nbconvert_exporter": "python",
   "pygments_lexer": "ipython3",
   "version": "3.10.12"
  },
  "orig_nbformat": 4
 },
 "nbformat": 4,
 "nbformat_minor": 2
}
