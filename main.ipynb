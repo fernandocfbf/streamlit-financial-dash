{
 "cells": [
  {
   "cell_type": "code",
   "execution_count": 10,
   "metadata": {},
   "outputs": [],
   "source": [
    "from src.classes.DataLoader import DataLoader\n",
    "from src.constants.path import LOAD_DATA_PATH\n",
    "import pandas as pd\n",
    "import numpy as np\n",
    "from src.constants.scheme import COLUMNS\n",
    "import plotly.express as px\n"
   ]
  },
  {
   "cell_type": "code",
   "execution_count": 3,
   "metadata": {},
   "outputs": [],
   "source": [
    "dataloader = DataLoader(LOAD_DATA_PATH)"
   ]
  },
  {
   "cell_type": "code",
   "execution_count": 4,
   "metadata": {},
   "outputs": [],
   "source": [
    "dataloader.load_data()"
   ]
  },
  {
   "cell_type": "code",
   "execution_count": 6,
   "metadata": {},
   "outputs": [
    {
     "data": {
      "text/html": [
       "<div>\n",
       "<style scoped>\n",
       "    .dataframe tbody tr th:only-of-type {\n",
       "        vertical-align: middle;\n",
       "    }\n",
       "\n",
       "    .dataframe tbody tr th {\n",
       "        vertical-align: top;\n",
       "    }\n",
       "\n",
       "    .dataframe thead th {\n",
       "        text-align: right;\n",
       "    }\n",
       "</style>\n",
       "<table border=\"1\" class=\"dataframe\">\n",
       "  <thead>\n",
       "    <tr style=\"text-align: right;\">\n",
       "      <th></th>\n",
       "      <th>transfer_number</th>\n",
       "      <th>status</th>\n",
       "      <th>direction</th>\n",
       "      <th>start_date</th>\n",
       "      <th>end_date</th>\n",
       "      <th>origin_tariff_value</th>\n",
       "      <th>origin_tariff_currency</th>\n",
       "      <th>destiny_tariff_value</th>\n",
       "      <th>destiny_tariff_currency</th>\n",
       "      <th>name_origin</th>\n",
       "      <th>...</th>\n",
       "      <th>reference</th>\n",
       "      <th>lot</th>\n",
       "      <th>is_transfer</th>\n",
       "      <th>balance_conversion</th>\n",
       "      <th>year</th>\n",
       "      <th>month</th>\n",
       "      <th>month_name</th>\n",
       "      <th>day</th>\n",
       "      <th>beneficiary</th>\n",
       "      <th>category</th>\n",
       "    </tr>\n",
       "  </thead>\n",
       "  <tbody>\n",
       "    <tr>\n",
       "      <th>0</th>\n",
       "      <td>TRANSFER-786503674</td>\n",
       "      <td>COMPLETED</td>\n",
       "      <td>OUT</td>\n",
       "      <td>2023-08-28 18:47:51</td>\n",
       "      <td>2023-08-28 18:48:07</td>\n",
       "      <td>0.0</td>\n",
       "      <td>EUR</td>\n",
       "      <td>NaN</td>\n",
       "      <td>NaN</td>\n",
       "      <td>Fernando Cesar Furtado Ballesteros Fincatti</td>\n",
       "      <td>...</td>\n",
       "      <td>NaN</td>\n",
       "      <td>NaN</td>\n",
       "      <td>True</td>\n",
       "      <td>False</td>\n",
       "      <td>2023</td>\n",
       "      <td>8</td>\n",
       "      <td>August</td>\n",
       "      <td>28</td>\n",
       "      <td>Paulo Rafael Alberton Bloemer</td>\n",
       "      <td>unknown</td>\n",
       "    </tr>\n",
       "    <tr>\n",
       "      <th>1</th>\n",
       "      <td>CARD_TRANSACTION-907997992</td>\n",
       "      <td>COMPLETED</td>\n",
       "      <td>OUT</td>\n",
       "      <td>2023-08-28 11:28:41</td>\n",
       "      <td>2023-08-28 11:28:41</td>\n",
       "      <td>0.0</td>\n",
       "      <td>EUR</td>\n",
       "      <td>NaN</td>\n",
       "      <td>NaN</td>\n",
       "      <td>Fernando Cesar Furtado Ballesteros Fincatti</td>\n",
       "      <td>...</td>\n",
       "      <td>NaN</td>\n",
       "      <td>NaN</td>\n",
       "      <td>False</td>\n",
       "      <td>False</td>\n",
       "      <td>2023</td>\n",
       "      <td>8</td>\n",
       "      <td>August</td>\n",
       "      <td>28</td>\n",
       "      <td>Woolworth</td>\n",
       "      <td>shop</td>\n",
       "    </tr>\n",
       "    <tr>\n",
       "      <th>2</th>\n",
       "      <td>TRANSFER-785803566</td>\n",
       "      <td>COMPLETED</td>\n",
       "      <td>IN</td>\n",
       "      <td>2023-08-28 07:39:48</td>\n",
       "      <td>2023-08-28 07:41:47</td>\n",
       "      <td>0.0</td>\n",
       "      <td>EUR</td>\n",
       "      <td>NaN</td>\n",
       "      <td>NaN</td>\n",
       "      <td>FERNANDO CESAR FURTADO BALLESTEROS FINCATTI</td>\n",
       "      <td>...</td>\n",
       "      <td>Expatrio M1</td>\n",
       "      <td>NaN</td>\n",
       "      <td>True</td>\n",
       "      <td>False</td>\n",
       "      <td>2023</td>\n",
       "      <td>8</td>\n",
       "      <td>August</td>\n",
       "      <td>28</td>\n",
       "      <td>Fernando Cesar Furtado Ballesteros Fincatti</td>\n",
       "      <td>unknown</td>\n",
       "    </tr>\n",
       "    <tr>\n",
       "      <th>3</th>\n",
       "      <td>CARD_TRANSACTION-907007542</td>\n",
       "      <td>COMPLETED</td>\n",
       "      <td>OUT</td>\n",
       "      <td>2023-08-27 19:32:43</td>\n",
       "      <td>2023-08-27 19:32:43</td>\n",
       "      <td>0.0</td>\n",
       "      <td>EUR</td>\n",
       "      <td>NaN</td>\n",
       "      <td>NaN</td>\n",
       "      <td>Fernando Cesar Furtado Ballesteros Fincatti</td>\n",
       "      <td>...</td>\n",
       "      <td>NaN</td>\n",
       "      <td>NaN</td>\n",
       "      <td>False</td>\n",
       "      <td>False</td>\n",
       "      <td>2023</td>\n",
       "      <td>8</td>\n",
       "      <td>August</td>\n",
       "      <td>27</td>\n",
       "      <td>Basta Pasta Side</td>\n",
       "      <td>restaurant</td>\n",
       "    </tr>\n",
       "    <tr>\n",
       "      <th>4</th>\n",
       "      <td>CARD_TRANSACTION-904725333</td>\n",
       "      <td>COMPLETED</td>\n",
       "      <td>OUT</td>\n",
       "      <td>2023-08-26 15:21:43</td>\n",
       "      <td>2023-08-26 15:21:43</td>\n",
       "      <td>0.0</td>\n",
       "      <td>EUR</td>\n",
       "      <td>NaN</td>\n",
       "      <td>NaN</td>\n",
       "      <td>Fernando Cesar Furtado Ballesteros Fincatti</td>\n",
       "      <td>...</td>\n",
       "      <td>NaN</td>\n",
       "      <td>NaN</td>\n",
       "      <td>False</td>\n",
       "      <td>False</td>\n",
       "      <td>2023</td>\n",
       "      <td>8</td>\n",
       "      <td>August</td>\n",
       "      <td>26</td>\n",
       "      <td>EDEKA</td>\n",
       "      <td>market</td>\n",
       "    </tr>\n",
       "  </tbody>\n",
       "</table>\n",
       "<p>5 rows × 26 columns</p>\n",
       "</div>"
      ],
      "text/plain": [
       "              transfer_number     status direction          start_date  \\\n",
       "0          TRANSFER-786503674  COMPLETED       OUT 2023-08-28 18:47:51   \n",
       "1  CARD_TRANSACTION-907997992  COMPLETED       OUT 2023-08-28 11:28:41   \n",
       "2          TRANSFER-785803566  COMPLETED        IN 2023-08-28 07:39:48   \n",
       "3  CARD_TRANSACTION-907007542  COMPLETED       OUT 2023-08-27 19:32:43   \n",
       "4  CARD_TRANSACTION-904725333  COMPLETED       OUT 2023-08-26 15:21:43   \n",
       "\n",
       "             end_date  origin_tariff_value origin_tariff_currency  \\\n",
       "0 2023-08-28 18:48:07                  0.0                    EUR   \n",
       "1 2023-08-28 11:28:41                  0.0                    EUR   \n",
       "2 2023-08-28 07:41:47                  0.0                    EUR   \n",
       "3 2023-08-27 19:32:43                  0.0                    EUR   \n",
       "4 2023-08-26 15:21:43                  0.0                    EUR   \n",
       "\n",
       "   destiny_tariff_value  destiny_tariff_currency  \\\n",
       "0                   NaN                      NaN   \n",
       "1                   NaN                      NaN   \n",
       "2                   NaN                      NaN   \n",
       "3                   NaN                      NaN   \n",
       "4                   NaN                      NaN   \n",
       "\n",
       "                                   name_origin  ...    reference lot  \\\n",
       "0  Fernando Cesar Furtado Ballesteros Fincatti  ...          NaN NaN   \n",
       "1  Fernando Cesar Furtado Ballesteros Fincatti  ...          NaN NaN   \n",
       "2  FERNANDO CESAR FURTADO BALLESTEROS FINCATTI  ...  Expatrio M1 NaN   \n",
       "3  Fernando Cesar Furtado Ballesteros Fincatti  ...          NaN NaN   \n",
       "4  Fernando Cesar Furtado Ballesteros Fincatti  ...          NaN NaN   \n",
       "\n",
       "  is_transfer  balance_conversion  year  month month_name  day  \\\n",
       "0        True               False  2023      8     August   28   \n",
       "1       False               False  2023      8     August   28   \n",
       "2        True               False  2023      8     August   28   \n",
       "3       False               False  2023      8     August   27   \n",
       "4       False               False  2023      8     August   26   \n",
       "\n",
       "                                   beneficiary    category  \n",
       "0                Paulo Rafael Alberton Bloemer     unknown  \n",
       "1                                    Woolworth        shop  \n",
       "2  Fernando Cesar Furtado Ballesteros Fincatti     unknown  \n",
       "3                             Basta Pasta Side  restaurant  \n",
       "4                                        EDEKA      market  \n",
       "\n",
       "[5 rows x 26 columns]"
      ]
     },
     "execution_count": 6,
     "metadata": {},
     "output_type": "execute_result"
    }
   ],
   "source": [
    "dataloader.dataframe.head()"
   ]
  },
  {
   "cell_type": "code",
   "execution_count": 7,
   "metadata": {},
   "outputs": [],
   "source": [
    "time_series_amount_by_category = dataloader.dataframe.groupby(['year', 'month', 'month_name', 'category'])[\"origin_amount\"].sum().reset_index()\n",
    "time_series_amount_by_category = time_series_amount_by_category.sort_values(['year', 'month'], ascending=True)"
   ]
  },
  {
   "cell_type": "code",
   "execution_count": 26,
   "metadata": {},
   "outputs": [
    {
     "data": {
      "text/html": [
       "<div>\n",
       "<style scoped>\n",
       "    .dataframe tbody tr th:only-of-type {\n",
       "        vertical-align: middle;\n",
       "    }\n",
       "\n",
       "    .dataframe tbody tr th {\n",
       "        vertical-align: top;\n",
       "    }\n",
       "\n",
       "    .dataframe thead th {\n",
       "        text-align: right;\n",
       "    }\n",
       "</style>\n",
       "<table border=\"1\" class=\"dataframe\">\n",
       "  <thead>\n",
       "    <tr style=\"text-align: right;\">\n",
       "      <th></th>\n",
       "      <th>transfer_number</th>\n",
       "      <th>status</th>\n",
       "      <th>direction</th>\n",
       "      <th>start_date</th>\n",
       "      <th>end_date</th>\n",
       "      <th>origin_tariff_value</th>\n",
       "      <th>origin_tariff_currency</th>\n",
       "      <th>destiny_tariff_value</th>\n",
       "      <th>destiny_tariff_currency</th>\n",
       "      <th>name_origin</th>\n",
       "      <th>...</th>\n",
       "      <th>reference</th>\n",
       "      <th>lot</th>\n",
       "      <th>is_transfer</th>\n",
       "      <th>balance_conversion</th>\n",
       "      <th>year</th>\n",
       "      <th>month</th>\n",
       "      <th>month_name</th>\n",
       "      <th>day</th>\n",
       "      <th>beneficiary</th>\n",
       "      <th>category</th>\n",
       "    </tr>\n",
       "  </thead>\n",
       "  <tbody>\n",
       "    <tr>\n",
       "      <th>1</th>\n",
       "      <td>CARD_TRANSACTION-907997992</td>\n",
       "      <td>COMPLETED</td>\n",
       "      <td>OUT</td>\n",
       "      <td>2023-08-28 11:28:41</td>\n",
       "      <td>2023-08-28 11:28:41</td>\n",
       "      <td>0.0</td>\n",
       "      <td>EUR</td>\n",
       "      <td>NaN</td>\n",
       "      <td>NaN</td>\n",
       "      <td>Fernando Cesar Furtado Ballesteros Fincatti</td>\n",
       "      <td>...</td>\n",
       "      <td>NaN</td>\n",
       "      <td>NaN</td>\n",
       "      <td>False</td>\n",
       "      <td>False</td>\n",
       "      <td>2023</td>\n",
       "      <td>8</td>\n",
       "      <td>August</td>\n",
       "      <td>28</td>\n",
       "      <td>Woolworth</td>\n",
       "      <td>shop</td>\n",
       "    </tr>\n",
       "    <tr>\n",
       "      <th>3</th>\n",
       "      <td>CARD_TRANSACTION-907007542</td>\n",
       "      <td>COMPLETED</td>\n",
       "      <td>OUT</td>\n",
       "      <td>2023-08-27 19:32:43</td>\n",
       "      <td>2023-08-27 19:32:43</td>\n",
       "      <td>0.0</td>\n",
       "      <td>EUR</td>\n",
       "      <td>NaN</td>\n",
       "      <td>NaN</td>\n",
       "      <td>Fernando Cesar Furtado Ballesteros Fincatti</td>\n",
       "      <td>...</td>\n",
       "      <td>NaN</td>\n",
       "      <td>NaN</td>\n",
       "      <td>False</td>\n",
       "      <td>False</td>\n",
       "      <td>2023</td>\n",
       "      <td>8</td>\n",
       "      <td>August</td>\n",
       "      <td>27</td>\n",
       "      <td>Basta Pasta Side</td>\n",
       "      <td>restaurant</td>\n",
       "    </tr>\n",
       "    <tr>\n",
       "      <th>4</th>\n",
       "      <td>CARD_TRANSACTION-904725333</td>\n",
       "      <td>COMPLETED</td>\n",
       "      <td>OUT</td>\n",
       "      <td>2023-08-26 15:21:43</td>\n",
       "      <td>2023-08-26 15:21:43</td>\n",
       "      <td>0.0</td>\n",
       "      <td>EUR</td>\n",
       "      <td>NaN</td>\n",
       "      <td>NaN</td>\n",
       "      <td>Fernando Cesar Furtado Ballesteros Fincatti</td>\n",
       "      <td>...</td>\n",
       "      <td>NaN</td>\n",
       "      <td>NaN</td>\n",
       "      <td>False</td>\n",
       "      <td>False</td>\n",
       "      <td>2023</td>\n",
       "      <td>8</td>\n",
       "      <td>August</td>\n",
       "      <td>26</td>\n",
       "      <td>EDEKA</td>\n",
       "      <td>market</td>\n",
       "    </tr>\n",
       "    <tr>\n",
       "      <th>5</th>\n",
       "      <td>CARD_TRANSACTION-904451802</td>\n",
       "      <td>COMPLETED</td>\n",
       "      <td>OUT</td>\n",
       "      <td>2023-08-26 13:08:19</td>\n",
       "      <td>2023-08-26 13:08:19</td>\n",
       "      <td>0.0</td>\n",
       "      <td>EUR</td>\n",
       "      <td>NaN</td>\n",
       "      <td>NaN</td>\n",
       "      <td>Fernando Cesar Furtado Ballesteros Fincatti</td>\n",
       "      <td>...</td>\n",
       "      <td>NaN</td>\n",
       "      <td>NaN</td>\n",
       "      <td>False</td>\n",
       "      <td>False</td>\n",
       "      <td>2023</td>\n",
       "      <td>8</td>\n",
       "      <td>August</td>\n",
       "      <td>26</td>\n",
       "      <td>Decathlon</td>\n",
       "      <td>shop</td>\n",
       "    </tr>\n",
       "    <tr>\n",
       "      <th>7</th>\n",
       "      <td>CARD_TRANSACTION-902826959</td>\n",
       "      <td>COMPLETED</td>\n",
       "      <td>OUT</td>\n",
       "      <td>2023-08-25 16:48:16</td>\n",
       "      <td>2023-08-25 16:48:16</td>\n",
       "      <td>0.0</td>\n",
       "      <td>EUR</td>\n",
       "      <td>NaN</td>\n",
       "      <td>NaN</td>\n",
       "      <td>Fernando Cesar Furtado Ballesteros Fincatti</td>\n",
       "      <td>...</td>\n",
       "      <td>NaN</td>\n",
       "      <td>NaN</td>\n",
       "      <td>False</td>\n",
       "      <td>False</td>\n",
       "      <td>2023</td>\n",
       "      <td>8</td>\n",
       "      <td>August</td>\n",
       "      <td>25</td>\n",
       "      <td>TEDi</td>\n",
       "      <td>market</td>\n",
       "    </tr>\n",
       "    <tr>\n",
       "      <th>...</th>\n",
       "      <td>...</td>\n",
       "      <td>...</td>\n",
       "      <td>...</td>\n",
       "      <td>...</td>\n",
       "      <td>...</td>\n",
       "      <td>...</td>\n",
       "      <td>...</td>\n",
       "      <td>...</td>\n",
       "      <td>...</td>\n",
       "      <td>...</td>\n",
       "      <td>...</td>\n",
       "      <td>...</td>\n",
       "      <td>...</td>\n",
       "      <td>...</td>\n",
       "      <td>...</td>\n",
       "      <td>...</td>\n",
       "      <td>...</td>\n",
       "      <td>...</td>\n",
       "      <td>...</td>\n",
       "      <td>...</td>\n",
       "      <td>...</td>\n",
       "    </tr>\n",
       "    <tr>\n",
       "      <th>436</th>\n",
       "      <td>CARD_TRANSACTION-623165446</td>\n",
       "      <td>COMPLETED</td>\n",
       "      <td>OUT</td>\n",
       "      <td>2023-03-06 17:12:31</td>\n",
       "      <td>2023-03-06 17:12:31</td>\n",
       "      <td>0.0</td>\n",
       "      <td>EUR</td>\n",
       "      <td>NaN</td>\n",
       "      <td>NaN</td>\n",
       "      <td>Fernando Cesar Furtado Ballesteros Fincatti</td>\n",
       "      <td>...</td>\n",
       "      <td>NaN</td>\n",
       "      <td>NaN</td>\n",
       "      <td>False</td>\n",
       "      <td>False</td>\n",
       "      <td>2023</td>\n",
       "      <td>3</td>\n",
       "      <td>March</td>\n",
       "      <td>6</td>\n",
       "      <td>REWE</td>\n",
       "      <td>market</td>\n",
       "    </tr>\n",
       "    <tr>\n",
       "      <th>437</th>\n",
       "      <td>CARD_TRANSACTION-623074220</td>\n",
       "      <td>COMPLETED</td>\n",
       "      <td>OUT</td>\n",
       "      <td>2023-03-06 16:03:50</td>\n",
       "      <td>2023-03-06 16:03:50</td>\n",
       "      <td>0.0</td>\n",
       "      <td>EUR</td>\n",
       "      <td>NaN</td>\n",
       "      <td>NaN</td>\n",
       "      <td>Fernando Cesar Furtado Ballesteros Fincatti</td>\n",
       "      <td>...</td>\n",
       "      <td>NaN</td>\n",
       "      <td>NaN</td>\n",
       "      <td>False</td>\n",
       "      <td>False</td>\n",
       "      <td>2023</td>\n",
       "      <td>3</td>\n",
       "      <td>March</td>\n",
       "      <td>6</td>\n",
       "      <td>REWE</td>\n",
       "      <td>market</td>\n",
       "    </tr>\n",
       "    <tr>\n",
       "      <th>438</th>\n",
       "      <td>CARD_TRANSACTION-622936485</td>\n",
       "      <td>COMPLETED</td>\n",
       "      <td>OUT</td>\n",
       "      <td>2023-03-06 14:18:50</td>\n",
       "      <td>2023-03-06 14:18:50</td>\n",
       "      <td>0.0</td>\n",
       "      <td>EUR</td>\n",
       "      <td>NaN</td>\n",
       "      <td>NaN</td>\n",
       "      <td>Fernando Cesar Furtado Ballesteros Fincatti</td>\n",
       "      <td>...</td>\n",
       "      <td>NaN</td>\n",
       "      <td>NaN</td>\n",
       "      <td>False</td>\n",
       "      <td>False</td>\n",
       "      <td>2023</td>\n",
       "      <td>3</td>\n",
       "      <td>March</td>\n",
       "      <td>6</td>\n",
       "      <td>Tedi Fil  6667</td>\n",
       "      <td>market</td>\n",
       "    </tr>\n",
       "    <tr>\n",
       "      <th>439</th>\n",
       "      <td>CARD_TRANSACTION-622468085</td>\n",
       "      <td>CANCELLED</td>\n",
       "      <td>OUT</td>\n",
       "      <td>2023-03-06 07:24:09</td>\n",
       "      <td>2023-03-06 07:24:09</td>\n",
       "      <td>NaN</td>\n",
       "      <td>NaN</td>\n",
       "      <td>NaN</td>\n",
       "      <td>NaN</td>\n",
       "      <td>Fernando Cesar Furtado Ballesteros Fincatti</td>\n",
       "      <td>...</td>\n",
       "      <td>NaN</td>\n",
       "      <td>NaN</td>\n",
       "      <td>False</td>\n",
       "      <td>False</td>\n",
       "      <td>2023</td>\n",
       "      <td>3</td>\n",
       "      <td>March</td>\n",
       "      <td>6</td>\n",
       "      <td>NaN</td>\n",
       "      <td>unknown</td>\n",
       "    </tr>\n",
       "    <tr>\n",
       "      <th>441</th>\n",
       "      <td>CARD_TRANSACTION-622191531</td>\n",
       "      <td>COMPLETED</td>\n",
       "      <td>OUT</td>\n",
       "      <td>2023-03-05 21:59:53</td>\n",
       "      <td>2023-03-05 21:59:53</td>\n",
       "      <td>0.0</td>\n",
       "      <td>EUR</td>\n",
       "      <td>NaN</td>\n",
       "      <td>NaN</td>\n",
       "      <td>Fernando Cesar Furtado Ballesteros Fincatti</td>\n",
       "      <td>...</td>\n",
       "      <td>NaN</td>\n",
       "      <td>NaN</td>\n",
       "      <td>False</td>\n",
       "      <td>False</td>\n",
       "      <td>2023</td>\n",
       "      <td>3</td>\n",
       "      <td>March</td>\n",
       "      <td>5</td>\n",
       "      <td>Lieferando.de Lieferservi</td>\n",
       "      <td>restaurant</td>\n",
       "    </tr>\n",
       "  </tbody>\n",
       "</table>\n",
       "<p>299 rows × 26 columns</p>\n",
       "</div>"
      ],
      "text/plain": [
       "                transfer_number     status direction          start_date  \\\n",
       "1    CARD_TRANSACTION-907997992  COMPLETED       OUT 2023-08-28 11:28:41   \n",
       "3    CARD_TRANSACTION-907007542  COMPLETED       OUT 2023-08-27 19:32:43   \n",
       "4    CARD_TRANSACTION-904725333  COMPLETED       OUT 2023-08-26 15:21:43   \n",
       "5    CARD_TRANSACTION-904451802  COMPLETED       OUT 2023-08-26 13:08:19   \n",
       "7    CARD_TRANSACTION-902826959  COMPLETED       OUT 2023-08-25 16:48:16   \n",
       "..                          ...        ...       ...                 ...   \n",
       "436  CARD_TRANSACTION-623165446  COMPLETED       OUT 2023-03-06 17:12:31   \n",
       "437  CARD_TRANSACTION-623074220  COMPLETED       OUT 2023-03-06 16:03:50   \n",
       "438  CARD_TRANSACTION-622936485  COMPLETED       OUT 2023-03-06 14:18:50   \n",
       "439  CARD_TRANSACTION-622468085  CANCELLED       OUT 2023-03-06 07:24:09   \n",
       "441  CARD_TRANSACTION-622191531  COMPLETED       OUT 2023-03-05 21:59:53   \n",
       "\n",
       "               end_date  origin_tariff_value origin_tariff_currency  \\\n",
       "1   2023-08-28 11:28:41                  0.0                    EUR   \n",
       "3   2023-08-27 19:32:43                  0.0                    EUR   \n",
       "4   2023-08-26 15:21:43                  0.0                    EUR   \n",
       "5   2023-08-26 13:08:19                  0.0                    EUR   \n",
       "7   2023-08-25 16:48:16                  0.0                    EUR   \n",
       "..                  ...                  ...                    ...   \n",
       "436 2023-03-06 17:12:31                  0.0                    EUR   \n",
       "437 2023-03-06 16:03:50                  0.0                    EUR   \n",
       "438 2023-03-06 14:18:50                  0.0                    EUR   \n",
       "439 2023-03-06 07:24:09                  NaN                    NaN   \n",
       "441 2023-03-05 21:59:53                  0.0                    EUR   \n",
       "\n",
       "     destiny_tariff_value  destiny_tariff_currency  \\\n",
       "1                     NaN                      NaN   \n",
       "3                     NaN                      NaN   \n",
       "4                     NaN                      NaN   \n",
       "5                     NaN                      NaN   \n",
       "7                     NaN                      NaN   \n",
       "..                    ...                      ...   \n",
       "436                   NaN                      NaN   \n",
       "437                   NaN                      NaN   \n",
       "438                   NaN                      NaN   \n",
       "439                   NaN                      NaN   \n",
       "441                   NaN                      NaN   \n",
       "\n",
       "                                     name_origin  ...  reference lot  \\\n",
       "1    Fernando Cesar Furtado Ballesteros Fincatti  ...        NaN NaN   \n",
       "3    Fernando Cesar Furtado Ballesteros Fincatti  ...        NaN NaN   \n",
       "4    Fernando Cesar Furtado Ballesteros Fincatti  ...        NaN NaN   \n",
       "5    Fernando Cesar Furtado Ballesteros Fincatti  ...        NaN NaN   \n",
       "7    Fernando Cesar Furtado Ballesteros Fincatti  ...        NaN NaN   \n",
       "..                                           ...  ...        ...  ..   \n",
       "436  Fernando Cesar Furtado Ballesteros Fincatti  ...        NaN NaN   \n",
       "437  Fernando Cesar Furtado Ballesteros Fincatti  ...        NaN NaN   \n",
       "438  Fernando Cesar Furtado Ballesteros Fincatti  ...        NaN NaN   \n",
       "439  Fernando Cesar Furtado Ballesteros Fincatti  ...        NaN NaN   \n",
       "441  Fernando Cesar Furtado Ballesteros Fincatti  ...        NaN NaN   \n",
       "\n",
       "    is_transfer  balance_conversion  year  month month_name  day  \\\n",
       "1         False               False  2023      8     August   28   \n",
       "3         False               False  2023      8     August   27   \n",
       "4         False               False  2023      8     August   26   \n",
       "5         False               False  2023      8     August   26   \n",
       "7         False               False  2023      8     August   25   \n",
       "..          ...                 ...   ...    ...        ...  ...   \n",
       "436       False               False  2023      3      March    6   \n",
       "437       False               False  2023      3      March    6   \n",
       "438       False               False  2023      3      March    6   \n",
       "439       False               False  2023      3      March    6   \n",
       "441       False               False  2023      3      March    5   \n",
       "\n",
       "                   beneficiary    category  \n",
       "1                    Woolworth        shop  \n",
       "3             Basta Pasta Side  restaurant  \n",
       "4                        EDEKA      market  \n",
       "5                    Decathlon        shop  \n",
       "7                         TEDi      market  \n",
       "..                         ...         ...  \n",
       "436                       REWE      market  \n",
       "437                       REWE      market  \n",
       "438             Tedi Fil  6667      market  \n",
       "439                        NaN     unknown  \n",
       "441  Lieferando.de Lieferservi  restaurant  \n",
       "\n",
       "[299 rows x 26 columns]"
      ]
     },
     "execution_count": 26,
     "metadata": {},
     "output_type": "execute_result"
    }
   ],
   "source": [
    "dataloader.get_card_transactions_dataframe()"
   ]
  },
  {
   "cell_type": "code",
   "execution_count": 25,
   "metadata": {},
   "outputs": [
    {
     "data": {
      "text/html": [
       "<div>\n",
       "<style scoped>\n",
       "    .dataframe tbody tr th:only-of-type {\n",
       "        vertical-align: middle;\n",
       "    }\n",
       "\n",
       "    .dataframe tbody tr th {\n",
       "        vertical-align: top;\n",
       "    }\n",
       "\n",
       "    .dataframe thead th {\n",
       "        text-align: right;\n",
       "    }\n",
       "</style>\n",
       "<table border=\"1\" class=\"dataframe\">\n",
       "  <thead>\n",
       "    <tr style=\"text-align: right;\">\n",
       "      <th></th>\n",
       "      <th>year</th>\n",
       "      <th>month</th>\n",
       "      <th>origin_amount</th>\n",
       "    </tr>\n",
       "  </thead>\n",
       "  <tbody>\n",
       "    <tr>\n",
       "      <th>0</th>\n",
       "      <td>2023</td>\n",
       "      <td>3</td>\n",
       "      <td>1118.38</td>\n",
       "    </tr>\n",
       "    <tr>\n",
       "      <th>1</th>\n",
       "      <td>2023</td>\n",
       "      <td>4</td>\n",
       "      <td>686.76</td>\n",
       "    </tr>\n",
       "    <tr>\n",
       "      <th>2</th>\n",
       "      <td>2023</td>\n",
       "      <td>5</td>\n",
       "      <td>1016.07</td>\n",
       "    </tr>\n",
       "    <tr>\n",
       "      <th>3</th>\n",
       "      <td>2023</td>\n",
       "      <td>6</td>\n",
       "      <td>592.34</td>\n",
       "    </tr>\n",
       "    <tr>\n",
       "      <th>4</th>\n",
       "      <td>2023</td>\n",
       "      <td>7</td>\n",
       "      <td>887.45</td>\n",
       "    </tr>\n",
       "    <tr>\n",
       "      <th>5</th>\n",
       "      <td>2023</td>\n",
       "      <td>8</td>\n",
       "      <td>1220.51</td>\n",
       "    </tr>\n",
       "  </tbody>\n",
       "</table>\n",
       "</div>"
      ],
      "text/plain": [
       "   year  month  origin_amount\n",
       "0  2023      3        1118.38\n",
       "1  2023      4         686.76\n",
       "2  2023      5        1016.07\n",
       "3  2023      6         592.34\n",
       "4  2023      7         887.45\n",
       "5  2023      8        1220.51"
      ]
     },
     "execution_count": 25,
     "metadata": {},
     "output_type": "execute_result"
    }
   ],
   "source": [
    "dataloader.get_card_transactions_dataframe().groupby(['year', 'month'])[\"origin_amount\"].sum().reset_index()"
   ]
  },
  {
   "cell_type": "code",
   "execution_count": 19,
   "metadata": {},
   "outputs": [
    {
     "data": {
      "application/vnd.plotly.v1+json": {
       "config": {
        "plotlyServerURL": "https://plot.ly"
       },
       "data": [
        {
         "hovertemplate": "category=rent<br>month_name=%{x}<br>origin_amount=%{y}<extra></extra>",
         "legendgroup": "rent",
         "line": {
          "color": "#636efa",
          "dash": "solid"
         },
         "marker": {
          "symbol": "circle"
         },
         "mode": "lines",
         "name": "rent",
         "orientation": "v",
         "showlegend": true,
         "type": "scatter",
         "x": [
          "February",
          "March",
          "May",
          "June",
          "July",
          "August"
         ],
         "xaxis": "x",
         "y": [
          1650,
          550,
          550,
          550,
          550,
          550
         ],
         "yaxis": "y"
        },
        {
         "hovertemplate": "category=market<br>month_name=%{x}<br>origin_amount=%{y}<extra></extra>",
         "legendgroup": "market",
         "line": {
          "color": "#EF553B",
          "dash": "solid"
         },
         "marker": {
          "symbol": "circle"
         },
         "mode": "lines",
         "name": "market",
         "orientation": "v",
         "showlegend": true,
         "type": "scatter",
         "x": [
          "March",
          "April",
          "May",
          "June",
          "July",
          "August"
         ],
         "xaxis": "x",
         "y": [
          349.77,
          247.74,
          255.81,
          211.41,
          211.05,
          254.99
         ],
         "yaxis": "y"
        },
        {
         "hovertemplate": "category=pharmacy<br>month_name=%{x}<br>origin_amount=%{y}<extra></extra>",
         "legendgroup": "pharmacy",
         "line": {
          "color": "#00cc96",
          "dash": "solid"
         },
         "marker": {
          "symbol": "circle"
         },
         "mode": "lines",
         "name": "pharmacy",
         "orientation": "v",
         "showlegend": true,
         "type": "scatter",
         "x": [
          "March",
          "April",
          "May",
          "June",
          "July",
          "August"
         ],
         "xaxis": "x",
         "y": [
          11.95,
          8.49,
          11.95,
          22.799999999999997,
          15.899999999999999,
          17.6
         ],
         "yaxis": "y"
        },
        {
         "hovertemplate": "category=restaurant<br>month_name=%{x}<br>origin_amount=%{y}<extra></extra>",
         "legendgroup": "restaurant",
         "line": {
          "color": "#ab63fa",
          "dash": "solid"
         },
         "marker": {
          "symbol": "circle"
         },
         "mode": "lines",
         "name": "restaurant",
         "orientation": "v",
         "showlegend": true,
         "type": "scatter",
         "x": [
          "March",
          "April",
          "May",
          "June",
          "July",
          "August"
         ],
         "xaxis": "x",
         "y": [
          26.4,
          24.87,
          79.6,
          60.89,
          11.99,
          124.4
         ],
         "yaxis": "y"
        },
        {
         "hovertemplate": "category=shop<br>month_name=%{x}<br>origin_amount=%{y}<extra></extra>",
         "legendgroup": "shop",
         "line": {
          "color": "#FFA15A",
          "dash": "solid"
         },
         "marker": {
          "symbol": "circle"
         },
         "mode": "lines",
         "name": "shop",
         "orientation": "v",
         "showlegend": true,
         "type": "scatter",
         "x": [
          "March",
          "April",
          "May",
          "June",
          "July",
          "August"
         ],
         "xaxis": "x",
         "y": [
          213.93,
          386.29,
          13.280000000000001,
          114.84,
          60.879999999999995,
          95.53
         ],
         "yaxis": "y"
        },
        {
         "hovertemplate": "category=accommodation<br>month_name=%{x}<br>origin_amount=%{y}<extra></extra>",
         "legendgroup": "accommodation",
         "line": {
          "color": "#19d3f3",
          "dash": "solid"
         },
         "marker": {
          "symbol": "circle"
         },
         "mode": "lines",
         "name": "accommodation",
         "orientation": "v",
         "showlegend": true,
         "type": "scatter",
         "x": [
          "May",
          "July",
          "August"
         ],
         "xaxis": "x",
         "y": [
          222.78,
          23.23,
          22.4
         ],
         "yaxis": "y"
        },
        {
         "hovertemplate": "category=entertainment<br>month_name=%{x}<br>origin_amount=%{y}<extra></extra>",
         "legendgroup": "entertainment",
         "line": {
          "color": "#FF6692",
          "dash": "solid"
         },
         "marker": {
          "symbol": "circle"
         },
         "mode": "lines",
         "name": "entertainment",
         "orientation": "v",
         "showlegend": true,
         "type": "scatter",
         "x": [
          "May",
          "August"
         ],
         "xaxis": "x",
         "y": [
          21.79,
          47.5
         ],
         "yaxis": "y"
        },
        {
         "hovertemplate": "category=health_insurance<br>month_name=%{x}<br>origin_amount=%{y}<extra></extra>",
         "legendgroup": "health_insurance",
         "line": {
          "color": "#B6E880",
          "dash": "solid"
         },
         "marker": {
          "symbol": "circle"
         },
         "mode": "lines",
         "name": "health_insurance",
         "orientation": "v",
         "showlegend": true,
         "type": "scatter",
         "x": [
          "May",
          "June",
          "July",
          "August"
         ],
         "xaxis": "x",
         "y": [
          184.09,
          117.5,
          117.5,
          120.34
         ],
         "yaxis": "y"
        },
        {
         "hovertemplate": "category=transport<br>month_name=%{x}<br>origin_amount=%{y}<extra></extra>",
         "legendgroup": "transport",
         "line": {
          "color": "#FF97FF",
          "dash": "solid"
         },
         "marker": {
          "symbol": "circle"
         },
         "mode": "lines",
         "name": "transport",
         "orientation": "v",
         "showlegend": true,
         "type": "scatter",
         "x": [
          "May",
          "June",
          "July",
          "August"
         ],
         "xaxis": "x",
         "y": [
          103.85,
          49,
          216.4,
          245.09
         ],
         "yaxis": "y"
        },
        {
         "hovertemplate": "category=tax<br>month_name=%{x}<br>origin_amount=%{y}<extra></extra>",
         "legendgroup": "tax",
         "line": {
          "color": "#FECB52",
          "dash": "solid"
         },
         "marker": {
          "symbol": "circle"
         },
         "mode": "lines",
         "name": "tax",
         "orientation": "v",
         "showlegend": true,
         "type": "scatter",
         "x": [
          "July",
          "August"
         ],
         "xaxis": "x",
         "y": [
          217,
          128.52
         ],
         "yaxis": "y"
        },
        {
         "hovertemplate": "category=internet<br>month_name=%{x}<br>origin_amount=%{y}<extra></extra>",
         "legendgroup": "internet",
         "line": {
          "color": "#636efa",
          "dash": "solid"
         },
         "marker": {
          "symbol": "circle"
         },
         "mode": "lines",
         "name": "internet",
         "orientation": "v",
         "showlegend": true,
         "type": "scatter",
         "x": [
          "August"
         ],
         "xaxis": "x",
         "y": [
          10
         ],
         "yaxis": "y"
        }
       ],
       "layout": {
        "legend": {
         "title": {
          "text": "category"
         },
         "tracegroupgap": 0
        },
        "template": {
         "data": {
          "bar": [
           {
            "error_x": {
             "color": "#2a3f5f"
            },
            "error_y": {
             "color": "#2a3f5f"
            },
            "marker": {
             "line": {
              "color": "#E5ECF6",
              "width": 0.5
             },
             "pattern": {
              "fillmode": "overlay",
              "size": 10,
              "solidity": 0.2
             }
            },
            "type": "bar"
           }
          ],
          "barpolar": [
           {
            "marker": {
             "line": {
              "color": "#E5ECF6",
              "width": 0.5
             },
             "pattern": {
              "fillmode": "overlay",
              "size": 10,
              "solidity": 0.2
             }
            },
            "type": "barpolar"
           }
          ],
          "carpet": [
           {
            "aaxis": {
             "endlinecolor": "#2a3f5f",
             "gridcolor": "white",
             "linecolor": "white",
             "minorgridcolor": "white",
             "startlinecolor": "#2a3f5f"
            },
            "baxis": {
             "endlinecolor": "#2a3f5f",
             "gridcolor": "white",
             "linecolor": "white",
             "minorgridcolor": "white",
             "startlinecolor": "#2a3f5f"
            },
            "type": "carpet"
           }
          ],
          "choropleth": [
           {
            "colorbar": {
             "outlinewidth": 0,
             "ticks": ""
            },
            "type": "choropleth"
           }
          ],
          "contour": [
           {
            "colorbar": {
             "outlinewidth": 0,
             "ticks": ""
            },
            "colorscale": [
             [
              0,
              "#0d0887"
             ],
             [
              0.1111111111111111,
              "#46039f"
             ],
             [
              0.2222222222222222,
              "#7201a8"
             ],
             [
              0.3333333333333333,
              "#9c179e"
             ],
             [
              0.4444444444444444,
              "#bd3786"
             ],
             [
              0.5555555555555556,
              "#d8576b"
             ],
             [
              0.6666666666666666,
              "#ed7953"
             ],
             [
              0.7777777777777778,
              "#fb9f3a"
             ],
             [
              0.8888888888888888,
              "#fdca26"
             ],
             [
              1,
              "#f0f921"
             ]
            ],
            "type": "contour"
           }
          ],
          "contourcarpet": [
           {
            "colorbar": {
             "outlinewidth": 0,
             "ticks": ""
            },
            "type": "contourcarpet"
           }
          ],
          "heatmap": [
           {
            "colorbar": {
             "outlinewidth": 0,
             "ticks": ""
            },
            "colorscale": [
             [
              0,
              "#0d0887"
             ],
             [
              0.1111111111111111,
              "#46039f"
             ],
             [
              0.2222222222222222,
              "#7201a8"
             ],
             [
              0.3333333333333333,
              "#9c179e"
             ],
             [
              0.4444444444444444,
              "#bd3786"
             ],
             [
              0.5555555555555556,
              "#d8576b"
             ],
             [
              0.6666666666666666,
              "#ed7953"
             ],
             [
              0.7777777777777778,
              "#fb9f3a"
             ],
             [
              0.8888888888888888,
              "#fdca26"
             ],
             [
              1,
              "#f0f921"
             ]
            ],
            "type": "heatmap"
           }
          ],
          "heatmapgl": [
           {
            "colorbar": {
             "outlinewidth": 0,
             "ticks": ""
            },
            "colorscale": [
             [
              0,
              "#0d0887"
             ],
             [
              0.1111111111111111,
              "#46039f"
             ],
             [
              0.2222222222222222,
              "#7201a8"
             ],
             [
              0.3333333333333333,
              "#9c179e"
             ],
             [
              0.4444444444444444,
              "#bd3786"
             ],
             [
              0.5555555555555556,
              "#d8576b"
             ],
             [
              0.6666666666666666,
              "#ed7953"
             ],
             [
              0.7777777777777778,
              "#fb9f3a"
             ],
             [
              0.8888888888888888,
              "#fdca26"
             ],
             [
              1,
              "#f0f921"
             ]
            ],
            "type": "heatmapgl"
           }
          ],
          "histogram": [
           {
            "marker": {
             "pattern": {
              "fillmode": "overlay",
              "size": 10,
              "solidity": 0.2
             }
            },
            "type": "histogram"
           }
          ],
          "histogram2d": [
           {
            "colorbar": {
             "outlinewidth": 0,
             "ticks": ""
            },
            "colorscale": [
             [
              0,
              "#0d0887"
             ],
             [
              0.1111111111111111,
              "#46039f"
             ],
             [
              0.2222222222222222,
              "#7201a8"
             ],
             [
              0.3333333333333333,
              "#9c179e"
             ],
             [
              0.4444444444444444,
              "#bd3786"
             ],
             [
              0.5555555555555556,
              "#d8576b"
             ],
             [
              0.6666666666666666,
              "#ed7953"
             ],
             [
              0.7777777777777778,
              "#fb9f3a"
             ],
             [
              0.8888888888888888,
              "#fdca26"
             ],
             [
              1,
              "#f0f921"
             ]
            ],
            "type": "histogram2d"
           }
          ],
          "histogram2dcontour": [
           {
            "colorbar": {
             "outlinewidth": 0,
             "ticks": ""
            },
            "colorscale": [
             [
              0,
              "#0d0887"
             ],
             [
              0.1111111111111111,
              "#46039f"
             ],
             [
              0.2222222222222222,
              "#7201a8"
             ],
             [
              0.3333333333333333,
              "#9c179e"
             ],
             [
              0.4444444444444444,
              "#bd3786"
             ],
             [
              0.5555555555555556,
              "#d8576b"
             ],
             [
              0.6666666666666666,
              "#ed7953"
             ],
             [
              0.7777777777777778,
              "#fb9f3a"
             ],
             [
              0.8888888888888888,
              "#fdca26"
             ],
             [
              1,
              "#f0f921"
             ]
            ],
            "type": "histogram2dcontour"
           }
          ],
          "mesh3d": [
           {
            "colorbar": {
             "outlinewidth": 0,
             "ticks": ""
            },
            "type": "mesh3d"
           }
          ],
          "parcoords": [
           {
            "line": {
             "colorbar": {
              "outlinewidth": 0,
              "ticks": ""
             }
            },
            "type": "parcoords"
           }
          ],
          "pie": [
           {
            "automargin": true,
            "type": "pie"
           }
          ],
          "scatter": [
           {
            "fillpattern": {
             "fillmode": "overlay",
             "size": 10,
             "solidity": 0.2
            },
            "type": "scatter"
           }
          ],
          "scatter3d": [
           {
            "line": {
             "colorbar": {
              "outlinewidth": 0,
              "ticks": ""
             }
            },
            "marker": {
             "colorbar": {
              "outlinewidth": 0,
              "ticks": ""
             }
            },
            "type": "scatter3d"
           }
          ],
          "scattercarpet": [
           {
            "marker": {
             "colorbar": {
              "outlinewidth": 0,
              "ticks": ""
             }
            },
            "type": "scattercarpet"
           }
          ],
          "scattergeo": [
           {
            "marker": {
             "colorbar": {
              "outlinewidth": 0,
              "ticks": ""
             }
            },
            "type": "scattergeo"
           }
          ],
          "scattergl": [
           {
            "marker": {
             "colorbar": {
              "outlinewidth": 0,
              "ticks": ""
             }
            },
            "type": "scattergl"
           }
          ],
          "scattermapbox": [
           {
            "marker": {
             "colorbar": {
              "outlinewidth": 0,
              "ticks": ""
             }
            },
            "type": "scattermapbox"
           }
          ],
          "scatterpolar": [
           {
            "marker": {
             "colorbar": {
              "outlinewidth": 0,
              "ticks": ""
             }
            },
            "type": "scatterpolar"
           }
          ],
          "scatterpolargl": [
           {
            "marker": {
             "colorbar": {
              "outlinewidth": 0,
              "ticks": ""
             }
            },
            "type": "scatterpolargl"
           }
          ],
          "scatterternary": [
           {
            "marker": {
             "colorbar": {
              "outlinewidth": 0,
              "ticks": ""
             }
            },
            "type": "scatterternary"
           }
          ],
          "surface": [
           {
            "colorbar": {
             "outlinewidth": 0,
             "ticks": ""
            },
            "colorscale": [
             [
              0,
              "#0d0887"
             ],
             [
              0.1111111111111111,
              "#46039f"
             ],
             [
              0.2222222222222222,
              "#7201a8"
             ],
             [
              0.3333333333333333,
              "#9c179e"
             ],
             [
              0.4444444444444444,
              "#bd3786"
             ],
             [
              0.5555555555555556,
              "#d8576b"
             ],
             [
              0.6666666666666666,
              "#ed7953"
             ],
             [
              0.7777777777777778,
              "#fb9f3a"
             ],
             [
              0.8888888888888888,
              "#fdca26"
             ],
             [
              1,
              "#f0f921"
             ]
            ],
            "type": "surface"
           }
          ],
          "table": [
           {
            "cells": {
             "fill": {
              "color": "#EBF0F8"
             },
             "line": {
              "color": "white"
             }
            },
            "header": {
             "fill": {
              "color": "#C8D4E3"
             },
             "line": {
              "color": "white"
             }
            },
            "type": "table"
           }
          ]
         },
         "layout": {
          "annotationdefaults": {
           "arrowcolor": "#2a3f5f",
           "arrowhead": 0,
           "arrowwidth": 1
          },
          "autotypenumbers": "strict",
          "coloraxis": {
           "colorbar": {
            "outlinewidth": 0,
            "ticks": ""
           }
          },
          "colorscale": {
           "diverging": [
            [
             0,
             "#8e0152"
            ],
            [
             0.1,
             "#c51b7d"
            ],
            [
             0.2,
             "#de77ae"
            ],
            [
             0.3,
             "#f1b6da"
            ],
            [
             0.4,
             "#fde0ef"
            ],
            [
             0.5,
             "#f7f7f7"
            ],
            [
             0.6,
             "#e6f5d0"
            ],
            [
             0.7,
             "#b8e186"
            ],
            [
             0.8,
             "#7fbc41"
            ],
            [
             0.9,
             "#4d9221"
            ],
            [
             1,
             "#276419"
            ]
           ],
           "sequential": [
            [
             0,
             "#0d0887"
            ],
            [
             0.1111111111111111,
             "#46039f"
            ],
            [
             0.2222222222222222,
             "#7201a8"
            ],
            [
             0.3333333333333333,
             "#9c179e"
            ],
            [
             0.4444444444444444,
             "#bd3786"
            ],
            [
             0.5555555555555556,
             "#d8576b"
            ],
            [
             0.6666666666666666,
             "#ed7953"
            ],
            [
             0.7777777777777778,
             "#fb9f3a"
            ],
            [
             0.8888888888888888,
             "#fdca26"
            ],
            [
             1,
             "#f0f921"
            ]
           ],
           "sequentialminus": [
            [
             0,
             "#0d0887"
            ],
            [
             0.1111111111111111,
             "#46039f"
            ],
            [
             0.2222222222222222,
             "#7201a8"
            ],
            [
             0.3333333333333333,
             "#9c179e"
            ],
            [
             0.4444444444444444,
             "#bd3786"
            ],
            [
             0.5555555555555556,
             "#d8576b"
            ],
            [
             0.6666666666666666,
             "#ed7953"
            ],
            [
             0.7777777777777778,
             "#fb9f3a"
            ],
            [
             0.8888888888888888,
             "#fdca26"
            ],
            [
             1,
             "#f0f921"
            ]
           ]
          },
          "colorway": [
           "#636efa",
           "#EF553B",
           "#00cc96",
           "#ab63fa",
           "#FFA15A",
           "#19d3f3",
           "#FF6692",
           "#B6E880",
           "#FF97FF",
           "#FECB52"
          ],
          "font": {
           "color": "#2a3f5f"
          },
          "geo": {
           "bgcolor": "white",
           "lakecolor": "white",
           "landcolor": "#E5ECF6",
           "showlakes": true,
           "showland": true,
           "subunitcolor": "white"
          },
          "hoverlabel": {
           "align": "left"
          },
          "hovermode": "closest",
          "mapbox": {
           "style": "light"
          },
          "paper_bgcolor": "white",
          "plot_bgcolor": "#E5ECF6",
          "polar": {
           "angularaxis": {
            "gridcolor": "white",
            "linecolor": "white",
            "ticks": ""
           },
           "bgcolor": "#E5ECF6",
           "radialaxis": {
            "gridcolor": "white",
            "linecolor": "white",
            "ticks": ""
           }
          },
          "scene": {
           "xaxis": {
            "backgroundcolor": "#E5ECF6",
            "gridcolor": "white",
            "gridwidth": 2,
            "linecolor": "white",
            "showbackground": true,
            "ticks": "",
            "zerolinecolor": "white"
           },
           "yaxis": {
            "backgroundcolor": "#E5ECF6",
            "gridcolor": "white",
            "gridwidth": 2,
            "linecolor": "white",
            "showbackground": true,
            "ticks": "",
            "zerolinecolor": "white"
           },
           "zaxis": {
            "backgroundcolor": "#E5ECF6",
            "gridcolor": "white",
            "gridwidth": 2,
            "linecolor": "white",
            "showbackground": true,
            "ticks": "",
            "zerolinecolor": "white"
           }
          },
          "shapedefaults": {
           "line": {
            "color": "#2a3f5f"
           }
          },
          "ternary": {
           "aaxis": {
            "gridcolor": "white",
            "linecolor": "white",
            "ticks": ""
           },
           "baxis": {
            "gridcolor": "white",
            "linecolor": "white",
            "ticks": ""
           },
           "bgcolor": "#E5ECF6",
           "caxis": {
            "gridcolor": "white",
            "linecolor": "white",
            "ticks": ""
           }
          },
          "title": {
           "x": 0.05
          },
          "xaxis": {
           "automargin": true,
           "gridcolor": "white",
           "linecolor": "white",
           "ticks": "",
           "title": {
            "standoff": 15
           },
           "zerolinecolor": "white",
           "zerolinewidth": 2
          },
          "yaxis": {
           "automargin": true,
           "gridcolor": "white",
           "linecolor": "white",
           "ticks": "",
           "title": {
            "standoff": 15
           },
           "zerolinecolor": "white",
           "zerolinewidth": 2
          }
         }
        },
        "title": {
         "text": "Time Series with Range Slider and Selectors"
        },
        "xaxis": {
         "anchor": "y",
         "domain": [
          0,
          1
         ],
         "title": {
          "text": "month_name"
         }
        },
        "yaxis": {
         "anchor": "x",
         "domain": [
          0,
          1
         ],
         "title": {
          "text": "origin_amount"
         }
        }
       }
      }
     },
     "metadata": {},
     "output_type": "display_data"
    }
   ],
   "source": [
    "#use plotly express to plot the time series\n",
    "fig = px.line(time_series_amount_by_category, x=\"month_name\", y=\"origin_amount\", color='category', title='Time Series with Range Slider and Selectors')\n",
    "fig.show()"
   ]
  },
  {
   "cell_type": "code",
   "execution_count": 22,
   "metadata": {},
   "outputs": [
    {
     "data": {
      "text/plain": [
       "Index(['transfer_number', 'status', 'direction', 'start_date', 'end_date',\n",
       "       'origin_tariff_value', 'origin_tariff_currency', 'destiny_tariff_value',\n",
       "       'destiny_tariff_currency', 'name_origin', 'origin_amount',\n",
       "       'origin_currency', 'beneficiary_name', 'destiny_amount',\n",
       "       'destiny_currency', 'exchange_rate', 'reference', 'lot', 'is_transfer',\n",
       "       'balance_conversion', 'year', 'month', 'month_name', 'day',\n",
       "       'beneficiary', 'category'],\n",
       "      dtype='object')"
      ]
     },
     "execution_count": 22,
     "metadata": {},
     "output_type": "execute_result"
    }
   ],
   "source": [
    "dataloader.get_card_transactions_dataframe().columns"
   ]
  },
  {
   "cell_type": "code",
   "execution_count": null,
   "metadata": {},
   "outputs": [],
   "source": []
  }
 ],
 "metadata": {
  "kernelspec": {
   "display_name": "Python 3",
   "language": "python",
   "name": "python3"
  },
  "language_info": {
   "codemirror_mode": {
    "name": "ipython",
    "version": 3
   },
   "file_extension": ".py",
   "mimetype": "text/x-python",
   "name": "python",
   "nbconvert_exporter": "python",
   "pygments_lexer": "ipython3",
   "version": "3.10.12"
  },
  "orig_nbformat": 4
 },
 "nbformat": 4,
 "nbformat_minor": 2
}
